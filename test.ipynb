{
 "cells": [
  {
   "cell_type": "code",
   "execution_count": null,
   "metadata": {},
   "outputs": [],
   "source": [
    "import yfinance as  yf\n",
    "import backtesting\n",
    "import pandas as pd"
   ]
  },
  {
   "cell_type": "code",
   "execution_count": null,
   "metadata": {},
   "outputs": [],
   "source": [
    "base_df = yf.download('ZW=F', start='2022-01-01', end='2022-12-31')\n",
    "base_df['Date'] = base_df.index\n",
    "# view_low_volume_df = base_df[base_df['Volume'] < 1000]\n",
    "# view_low_volume_df\n",
    "base_df"
   ]
  },
  {
   "cell_type": "code",
   "execution_count": null,
   "metadata": {},
   "outputs": [],
   "source": [
    "df = pd.read_csv('c_year_22.txt')\n",
    "df['Report_Date_as_YYYY-MM-DD'] = pd.to_datetime(df['Report_Date_as_YYYY-MM-DD'])  # Convert the column to datetime if not already in datetime format\n",
    "\n",
    "start_date = pd.to_datetime('2022-01-01')\n",
    "end_date = pd.to_datetime('2022-12-31')\n",
    "\n",
    "# Boolean indexing to select rows within the date range\n",
    "selected_rows = df[(df['Report_Date_as_YYYY-MM-DD'] >= start_date) & (df['Report_Date_as_YYYY-MM-DD'] <= end_date) & (df['Market_and_Exchange_Names'] == 'WHEAT-SRW - CHICAGO BOARD OF TRADE')]\n",
    "selected_rows.set_index('Report_Date_as_YYYY-MM-DD', inplace=True)\n",
    "selected_rows"
   ]
  },
  {
   "cell_type": "code",
   "execution_count": null,
   "metadata": {},
   "outputs": [],
   "source": [
    "merged_df = base_df.merge(selected_rows, left_on=base_df.index, right_on='Report_Date_as_YYYY-MM-DD', how = 'outer')\n",
    "merged_df.columns\n",
    "merged_df.set_index('Date', inplace=True)\n",
    "merged_df\n",
    "# backtest 需要的dataframe的index需要是datetime"
   ]
  },
  {
   "cell_type": "code",
   "execution_count": 92,
   "metadata": {},
   "outputs": [],
   "source": [
    "from backtesting import Backtest, Strategy\n",
    "from backtesting.lib import crossover, SignalStrategy, TrailingStrategy, plot_heatmaps, crossover\n",
    "from backtesting.test import SMA\n",
    "\n",
    "    \n",
    "class SmaCross(SignalStrategy,\n",
    "               TrailingStrategy):\n",
    "    n1 = 1\n",
    "    n2 = 14\n",
    "    \n",
    "    def init(self):\n",
    "        # In init() and in next() it is important to call the\n",
    "        # super method to properly initialize the parent classes\n",
    "        super().init()\n",
    "        # Precompute the two moving averages\n",
    "        self.sma1 = self.I(SMA, self.data.Close, self.n1)\n",
    "        self.sma2 = self.I(SMA, self.data.Close, self.n2)\n",
    "        # precompute the open interest trend\n",
    "        Open_interest_trend_flag = 0 # if the indecator changes exceed 10%, then we shall switch the position\n",
    "        \n",
    "        # Precompute the indecators\n",
    "\n",
    "        # Where sma1 crosses sma2 upwards. Diff gives us [-1,0, *1*]\n",
    "        signal = (pd.Series(self.sma1) > self.sma2).astype(int).diff().fillna(0)\n",
    "\n",
    "        # signal = signal.replace(-1, 0)  # Upwards/long only\n",
    "        \n",
    "        # Use 95% of available liquidity (at the time) on each order.\n",
    "        # (Leaving a value of 1. would instead buy a single share.)\n",
    "        entry_size = signal * .95\n",
    "                \n",
    "        # Set order entry sizes using the method provided by \n",
    "        # `SignalStrategy`. See the docs.\n",
    "        \n",
    "        self.set_signal(entry_size=entry_size)\n",
    "        \n",
    "        # Set trailing stop-loss to 2x ATR using\n",
    "        # the method provided by `TrailingStrategy`\n",
    "        \n",
    "        self.set_trailing_sl(8)\n",
    "        self.set_atr_periods(50)\n",
    "\n",
    "class ComplexStrategy(SmaCross):\n",
    "    def init(self):\n",
    "        super().init()\n",
    "        # Precompute the indecators\n",
    "        \n",
    "        self.open_intersts_trend = pd.Series(self.data.Open_Interest_All).fillna(method = 'bfill')\n",
    "        \n",
    "        print(self.open_intersts_trend)\n",
    "        \n",
    "final_strategy = ComplexStrategy\n",
    "\n"
   ]
  },
  {
   "cell_type": "code",
   "execution_count": 93,
   "metadata": {},
   "outputs": [
    {
     "name": "stdout",
     "output_type": "stream",
     "text": [
      "0      439485.0\n",
      "1      439485.0\n",
      "2      455595.0\n",
      "3      455595.0\n",
      "4      455595.0\n",
      "         ...   \n",
      "246    387675.0\n",
      "247    387675.0\n",
      "248         NaN\n",
      "249         NaN\n",
      "250         NaN\n",
      "Length: 251, dtype: float64\n",
      "Start                     2022-01-03 00:00:00\n",
      "End                       2022-12-30 00:00:00\n",
      "Duration                    361 days 00:00:00\n",
      "Exposure Time [%]                   92.031873\n",
      "Equity Final [$]                 118586520.68\n",
      "Equity Peak [$]                   163922769.0\n",
      "Return [%]                          18.586521\n",
      "Buy & Hold Return [%]                4.485488\n",
      "Return (Ann.) [%]                   18.667089\n",
      "Volatility (Ann.) [%]               59.800363\n",
      "Sharpe Ratio                         0.312157\n",
      "Sortino Ratio                        0.617237\n",
      "Calmar Ratio                         0.492999\n",
      "Max. Drawdown [%]                  -37.864319\n",
      "Avg. Drawdown [%]                  -14.168848\n",
      "Max. Drawdown Duration      298 days 00:00:00\n",
      "Avg. Drawdown Duration       81 days 00:00:00\n",
      "# Trades                                   32\n",
      "Win Rate [%]                            31.25\n",
      "Best Trade [%]                       30.95456\n",
      "Worst Trade [%]                     -7.364089\n",
      "Avg. Trade [%]                       0.549865\n",
      "Max. Trade Duration          43 days 00:00:00\n",
      "Avg. Trade Duration          11 days 00:00:00\n",
      "Profit Factor                         1.40998\n",
      "Expectancy [%]                       0.823751\n",
      "SQN                                  0.414041\n",
      "_strategy                     ComplexStrategy\n",
      "_equity_curve                             ...\n",
      "_trades                         Size  Entr...\n",
      "dtype: object\n"
     ]
    }
   ],
   "source": [
    "final_strategy = ComplexStrategy\n",
    "bt = Backtest(merged_df, final_strategy, cash=1e8, hedging=True,exclusive_orders=True, trade_on_close=True)\n",
    "print(bt.run())"
   ]
  },
  {
   "cell_type": "code",
   "execution_count": null,
   "metadata": {},
   "outputs": [],
   "source": [
    "final_strategy = ComplexStrategy\n",
    "bt = Backtest(merged_df, final_strategy, cash=1e8, hedging=True,exclusive_orders=True, trade_on_close=True)\n",
    "results, heatmap = bt.optimize(n1=range(5, 20, 1), n2 = range(5, 20, 1), maximize='Sharpe Ratio', constraint=lambda p: p.n1 < p.n2, return_heatmap=True)\n",
    "bt.plot(results = results)\n",
    "plot_heatmaps(heatmap)\n",
    "print(results)"
   ]
  }
 ],
 "metadata": {
  "kernelspec": {
   "display_name": "Python 3",
   "language": "python",
   "name": "python3"
  },
  "language_info": {
   "codemirror_mode": {
    "name": "ipython",
    "version": 3
   },
   "file_extension": ".py",
   "mimetype": "text/x-python",
   "name": "python",
   "nbconvert_exporter": "python",
   "pygments_lexer": "ipython3",
   "version": "3.11.0"
  },
  "orig_nbformat": 4
 },
 "nbformat": 4,
 "nbformat_minor": 2
}
