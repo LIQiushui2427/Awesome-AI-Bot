{
 "cells": [
  {
   "cell_type": "code",
   "execution_count": null,
   "metadata": {},
   "outputs": [],
   "source": [
    "# %%\n",
    "import os\n",
    "import requests\n",
    "import zipfile\n",
    "import pandas as pd\n",
    "import datetime as dt\n",
    "import yfinance as  yf"
   ]
  },
  {
   "cell_type": "code",
   "execution_count": null,
   "metadata": {},
   "outputs": [],
   "source": [
    "base_url = 'https://www.cftc.gov/files/dea/history/fut_disagg_txt_{}.zip'\n",
    "output_dir = os.path.join(os.getcwd(), 'data')\n",
    "output_file = 'fut_disagg.txt'\n",
    "yf_code = 'ZW=F'\n",
    "start_date = '2020-01-01'\n",
    "end_date = '2021-01-01'\n",
    "cftc_market_code = '001602'"
   ]
  },
  {
   "cell_type": "code",
   "execution_count": null,
   "metadata": {},
   "outputs": [],
   "source": [
    "for year in range(2021, 2020, -1):\n",
    "    print(f\"Downloading CFTC data for year {year}...\")\n",
    "\n",
    "    # Construct the URL and download path for this year\n",
    "    url = base_url.format(year)\n",
    "    output_zip = os.path.join(output_dir, f'fut_disagg_txt_{year}.zip')\n",
    "\n",
    "    # Download the file\n",
    "    r = requests.get(url)\n",
    "\n",
    "    # Save it as a binary file\n",
    "    with open(output_zip, 'wb') as f:\n",
    "        f.write(r.content)\n",
    "\n",
    "    # Open the downloaded zip file\n",
    "    with zipfile.ZipFile(output_zip, 'r') as zip_ref:\n",
    "        # Extract all the contents into the data directory\n",
    "        zip_ref.extractall(output_dir)\n",
    "\n",
    "    # The zip file is now unzipped. You can remove the zip file if you wish:\n",
    "    os.remove(output_zip)\n",
    "\n",
    "    # Load the data from the extracted file\n",
    "    new_data = pd.read_csv(os.path.join(output_dir, f'f_year.txt'), delimiter='\\t')\n",
    "\n",
    "    # Append the data to the output file\n",
    "    if os.path.exists(os.path.join(output_dir,output_file)):\n",
    "        new_data.to_csv(os.path.join(output_dir,output_file), mode='a', header=False, index=False)\n",
    "    else:\n",
    "        new_data.to_csv(os.path.join(output_dir,output_file), mode='w', header=True, index=False)"
   ]
  },
  {
   "cell_type": "code",
   "execution_count": null,
   "metadata": {},
   "outputs": [],
   "source": [
    "\n",
    "    \n",
    "print(\"Downloaded, selecting data...\")\n",
    "    \n",
    "yf_df = yf.download(yf_code, start = start_date, end = end_date, progress = False)\n",
    "yf_df\n"
   ]
  },
  {
   "cell_type": "code",
   "execution_count": null,
   "metadata": {},
   "outputs": [],
   "source": [
    "print(\"Output_file: \", output_file)\n",
    "cftc_df = pd.read_csv(os.path.join(output_dir, output_file), delimiter=',')\n",
    "print(\"Col:\", cftc_df.columns)\n",
    "cftc_df\n"
   ]
  },
  {
   "cell_type": "code",
   "execution_count": null,
   "metadata": {},
   "outputs": [],
   "source": [
    "df = pd.merge(yf_df, cftc_df, left_index=True, right_on='Report_Date_as_YYYY-MM-DD', how='outer').fillna(method='bfill')\n",
    "df.set_index('Date', inplace=True)\n",
    "df"
   ]
  }
 ],
 "metadata": {
  "kernelspec": {
   "display_name": "Python 3",
   "language": "python",
   "name": "python3"
  },
  "language_info": {
   "codemirror_mode": {
    "name": "ipython",
    "version": 3
   },
   "file_extension": ".py",
   "mimetype": "text/x-python",
   "name": "python",
   "nbconvert_exporter": "python",
   "pygments_lexer": "ipython3",
   "version": "3.11.0"
  },
  "orig_nbformat": 4
 },
 "nbformat": 4,
 "nbformat_minor": 2
}
