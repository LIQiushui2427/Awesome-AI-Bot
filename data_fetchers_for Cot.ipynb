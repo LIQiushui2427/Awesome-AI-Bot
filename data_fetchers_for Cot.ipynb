{
 "cells": [
  {
   "cell_type": "code",
   "execution_count": null,
   "metadata": {},
   "outputs": [],
   "source": [
    "import os\n",
    "import requests\n",
    "import zipfile\n",
    "import pandas as pd\n",
    "\n",
    "base_url = 'https://www.cftc.gov/files/dea/history/fut_disagg_txt_{}.zip'\n",
    "output_dir = os.path.join(os.getcwd(), 'data')\n",
    "output_file = os.path.join(output_dir, 'fut_disagg.txt')\n",
    "\n",
    "if os.path.exists(output_file):\n",
    "    os.remove(output_file)\n",
    "\n",
    "# Loop through all years from 2010 to 2023\n",
    "for year in range(2023, 2009, -1):\n",
    "    print(f\"Processing year {year}...\")\n",
    "\n",
    "    # Construct the URL and download path for this year\n",
    "    url = base_url.format(year)\n",
    "    output_zip = os.path.join(output_dir, f'fut_disagg_txt_{year}.zip')\n",
    "\n",
    "    # Download the file\n",
    "    r = requests.get(url)\n",
    "\n",
    "    # Save it as a binary file\n",
    "    with open(output_zip, 'wb') as f:\n",
    "        f.write(r.content)\n",
    "\n",
    "    # Open the downloaded zip file\n",
    "    with zipfile.ZipFile(output_zip, 'r') as zip_ref:\n",
    "        # Extract all the contents into the data directory\n",
    "        zip_ref.extractall(output_dir)\n",
    "\n",
    "    # The zip file is now unzipped. You can remove the zip file if you wish:\n",
    "    os.remove(output_zip)\n",
    "\n",
    "    # Load the data from the extracted file\n",
    "    new_data = pd.read_csv(os.path.join(output_dir, f'f_year.txt'), delimiter='\\t')\n",
    "\n",
    "    # Append the data to the output file\n",
    "    if os.path.exists(output_file):\n",
    "        new_data.to_csv(output_file, mode='a', header=False, index=False)\n",
    "    else:\n",
    "        new_data.to_csv(output_file, mode='w', header=True, index=False)\n",
    "\n"
   ]
  }
 ],
 "metadata": {
  "kernelspec": {
   "display_name": "Python 3",
   "language": "python",
   "name": "python3"
  },
  "language_info": {
   "codemirror_mode": {
    "name": "ipython",
    "version": 3
   },
   "file_extension": ".py",
   "mimetype": "text/x-python",
   "name": "python",
   "nbconvert_exporter": "python",
   "pygments_lexer": "ipython3",
   "version": "3.11.0"
  },
  "orig_nbformat": 4
 },
 "nbformat": 4,
 "nbformat_minor": 2
}
