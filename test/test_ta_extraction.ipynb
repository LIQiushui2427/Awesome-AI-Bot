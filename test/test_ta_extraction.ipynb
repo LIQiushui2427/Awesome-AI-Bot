{
 "cells": [
  {
   "cell_type": "code",
   "execution_count": null,
   "metadata": {},
   "outputs": [],
   "source": [
    "import sys\n",
    "import pandas as pd\n",
    "import torch\n",
    "sys.path.append('..')\n",
    "from data_feature_extraction.CoT_Dissa import extract_data\n",
    "device = torch.device('cuda' if torch.cuda.is_available() else 'cpu')\n",
    "device"
   ]
  },
  {
   "cell_type": "code",
   "execution_count": null,
   "metadata": {},
   "outputs": [],
   "source": [
    "df = extract_data(datasoursepath = '../data/GC=F_com_disagg.csv', finalextracteddatapath = '../data/GC=F_com_disagg_finalextracted.csv', nCorrTop=100, nMICTop= 70)"
   ]
  },
  {
   "cell_type": "code",
   "execution_count": null,
   "metadata": {},
   "outputs": [],
   "source": [
    "string_cols = df.select_dtypes(include=['object']).columns.tolist()\n",
    "df.set_index('date', drop=True)\n",
    "print(df.columns)\n",
    "# Drop the string columns from the DataFrame\n",
    "df_ = df.drop(columns=string_cols, inplace=False)\n",
    "df_['date'] = pd.to_datetime(df['date'])\n",
    "df_.set_index(['date'],drop=True, inplace=True)\n",
    "df_.columns"
   ]
  },
  {
   "cell_type": "code",
   "execution_count": null,
   "metadata": {},
   "outputs": [],
   "source": [
    "from data_feature_selection.cot_dissag import select_feature\n",
    "\n",
    "df_selected = select_feature(df, 0.2, 48)"
   ]
  },
  {
   "cell_type": "markdown",
   "metadata": {},
   "source": [
    "Unifying"
   ]
  },
  {
   "cell_type": "code",
   "execution_count": null,
   "metadata": {},
   "outputs": [],
   "source": [
    "\n",
    "train_size = int(0.8 * len(df_selected))  # Use first 80% of series as training data\n",
    "test_size = len(df_selected) - train_size  # Use the remainder for testing\n",
    "# Apply the MinMaxScaler to the df_selected\n",
    "train_df = df_selected.iloc[:train_size]\n",
    "test_df = df_selected\n",
    "# print(df_scaled.describe())"
   ]
  },
  {
   "cell_type": "code",
   "execution_count": null,
   "metadata": {},
   "outputs": [],
   "source": [
    "import numpy as np\n",
    "from sklearn.preprocessing import MinMaxScaler\n",
    "\n",
    "# Initialize a MinMaxScaler\n",
    "scaler = MinMaxScaler()\n",
    "\n",
    "def create_train_dataset(scaler: MinMaxScaler, df: pd.DataFrame, l, pr):\n",
    "    \"\"\"Create dataset just for model training. It should be large in whole dataset.\n",
    "    It will firstly \n",
    "    \"\"\"\n",
    "    df = pd.DataFrame(scaler.fit_transform(df), columns=df.columns, index=df.index)\n",
    "    X, Y = [], []\n",
    "    for i in range(len(df)-l-pr+1):\n",
    "        X.append(df.iloc[i:i+l].values)  # Get the values for l days\n",
    "        Y.append(df.iloc[i+l:i+l+pr]['Close'].values)  # Get the closing price for the 16th day\n",
    "    return np.array(X), np.array(Y)\n",
    "\n",
    "def create_test_dataset(scaler: MinMaxScaler, df: pd.DataFrame, l, pr):\n",
    "    \"\"\"create test dataset. The set can have the some lookback period and future date, \n",
    "    and for sure over whole dataset, but the unifing data should not contain future data. May be need to calculate rolling minmax for each input:\n",
    "    it should keep moving and calculate all using.\"\"\"\n",
    "    df = pd.DataFrame(scaler.fit_transform(df), columns=df.columns, index=df.index)\n",
    "    X, Y = [], []\n",
    "    for i in range(len(df)-l-pr+1):\n",
    "        X.append(df.iloc[i:i+l].values)  # Get the values for l days\n",
    "        Y.append(df.iloc[i+l:i+l+pr]['Close'].values)  # Get the closing price for the 16th day\n",
    "    return np.array(X), np.array(Y)\n",
    "\n",
    "\n"
   ]
  },
  {
   "cell_type": "code",
   "execution_count": null,
   "metadata": {},
   "outputs": [],
   "source": [
    "import torch\n",
    "from torch.utils.data import TensorDataset, DataLoader\n",
    "\n",
    "batch_size = 64\n",
    "# Split the data into training and test sets\n",
    "\n",
    "\n",
    "# Create the dataset\n",
    "l = 84\n",
    "pr = 1\n",
    "\n",
    "# Create the dataset\n",
    "train_X, train_Y = create_train_dataset(scaler,train_df, l, pr)\n",
    "test_X, test_Y = create_test_dataset(scaler,test_df, l, pr)\n",
    " \n",
    "# Create TensorDatasets\n",
    "train_data = TensorDataset(torch.from_numpy(train_X).to(torch.float32), torch.from_numpy(train_Y).to(torch.float32))\n",
    "test_data = TensorDataset(torch.from_numpy(test_X).to(torch.float32), torch.from_numpy(test_Y).to(torch.float32))\n",
    "# Create DataLoaders\n",
    "train_loader = DataLoader(train_data, shuffle=False, batch_size=batch_size)\n",
    "test_loader = DataLoader(test_data, shuffle=False, batch_size=batch_size)\n",
    "\n"
   ]
  },
  {
   "cell_type": "code",
   "execution_count": null,
   "metadata": {},
   "outputs": [],
   "source": [
    "import torch.nn as nn\n",
    "\n",
    "# Define LSTM network\n",
    "class StockPredictor(nn.Module):\n",
    "    def __init__(self, input_dim, hidden_dim, num_layers, output_dim):\n",
    "        super().__init__()\n",
    "        self.hidden_size = hidden_dim\n",
    "        self.num_layers = num_layers\n",
    "\n",
    "        self.lstm = nn.LSTM(input_dim, num_layers, batch_first=True)\n",
    "        \n",
    "        self.fc = nn.Linear(hidden_dim, output_dim)\n",
    "\n",
    "    def forward(self, x):\n",
    "        h0 = torch.zeros(self.num_layers, x.size(0), self.hidden_size, device=x.device).requires_grad_()\n",
    "        c0 = torch.zeros(self.num_layers, x.size(0), self.hidden_size, device=x.device).requires_grad_()\n",
    "        out, (hn, cn) = self.lstm(x, (h0.detach(), c0.detach()))\n",
    "        out = self.fc(out[:, -1, :]) \n",
    "        return out\n"
   ]
  },
  {
   "cell_type": "markdown",
   "metadata": {},
   "source": [
    "Train"
   ]
  },
  {
   "cell_type": "code",
   "execution_count": null,
   "metadata": {},
   "outputs": [],
   "source": [
    "import torch.optim as optim\n",
    "\n",
    "model = StockPredictor(input_dim = train_df.shape[1], hidden_dim = 1, output_dim = 1, num_layers = 1)\n",
    "model = model.to(device)\n",
    "\n",
    "criterion = torch.nn.MSELoss(reduction='mean')\n",
    "optimiser = torch.optim.Adam(model.parameters(), lr=0.0005)\n",
    "\n",
    "num_epochs = 120\n",
    "\n",
    "hist = np.zeros(num_epochs)\n",
    "\n",
    "for t in range(num_epochs):\n",
    "    for seq, labels in train_loader:\n",
    "        seq, labels = seq.to(device), labels.to(device)\n",
    "        y_train_pred = model(seq.to(device))\n",
    "        loss = criterion(y_train_pred, labels)\n",
    "        print(\"Epoch \", t, \"MSE: \", loss.item())\n",
    "        hist[t] = loss.item()\n",
    "        optimiser.zero_grad()\n",
    "        loss.backward()\n",
    "        optimiser.step()\n"
   ]
  },
  {
   "cell_type": "markdown",
   "metadata": {},
   "source": [
    "Test"
   ]
  },
  {
   "cell_type": "code",
   "execution_count": null,
   "metadata": {},
   "outputs": [],
   "source": [
    "model.eval()\n",
    "test_losses = []\n",
    "\n",
    "for seq, labels in test_loader:\n",
    "    seq, labels = seq.to(device), labels.to(device)\n",
    "    with torch.no_grad():\n",
    "        y_test_pred = model(seq)\n",
    "        test_loss = criterion(y_test_pred, labels)\n",
    "        test_losses.append(test_loss.item())\n",
    "        print(\"Test MSE: \", np.mean(test_losses))\n"
   ]
  },
  {
   "attachments": {},
   "cell_type": "markdown",
   "metadata": {},
   "source": [
    "Try forcesting using rise and fall"
   ]
  },
  {
   "cell_type": "code",
   "execution_count": null,
   "metadata": {},
   "outputs": [],
   "source": [
    "import matplotlib.pyplot as plt\n",
    "\n",
    "# Collect training predictions and true labels\n",
    "model.eval()\n",
    "\n",
    "train_predictions = []\n",
    "train_true_labels = []\n",
    "\n",
    "with torch.no_grad():\n",
    "    for seq, labels in train_loader:\n",
    "        seq, labels = seq.to(device), labels.to(device)\n",
    "        y_train_pred = model(seq)\n",
    "        train_predictions.append(y_train_pred.detach().cpu().numpy())\n",
    "        train_true_labels.append(labels.cpu().numpy())\n",
    "\n",
    "# Collect test predictions and true labels\n",
    "test_predictions = []\n",
    "test_true_labels = []\n",
    "\n",
    "with torch.no_grad():\n",
    "    for seq, labels in test_loader:\n",
    "        seq, labels = seq.to(device), labels.to(device)\n",
    "        y_test_pred = model(seq)\n",
    "        test_predictions.append(y_test_pred.detach().cpu().numpy())\n",
    "        test_true_labels.append(labels.cpu().numpy())\n",
    "\n",
    "# Flatten lists of arrays\n",
    "train_predictions = [item for sublist in train_predictions for item in sublist]\n",
    "train_true_labels = [item for sublist in train_true_labels for item in sublist]\n",
    "\n",
    "test_predictions = [item for sublist in test_predictions for item in sublist]\n",
    "test_true_labels = [item for sublist in test_true_labels for item in sublist]\n",
    "\n",
    "plt.figure(figsize=(14,8))\n",
    "plt.plot(train_true_labels, label='Train True values')\n",
    "plt.plot(train_predictions, label='Train Predicted values')\n",
    "plt.title('Training Data: Stock Closing Price Predictions vs True Values')\n",
    "plt.xlabel('Time')\n",
    "plt.ylabel('Normalized Price')\n",
    "plt.legend()\n",
    "plt.show()\n",
    "\n",
    "# Plot true labels and predictions for test data\n",
    "plt.figure(figsize=(14,8))\n",
    "plt.plot(test_true_labels, label='Test True values')\n",
    "plt.plot(test_predictions, label='Test Predicted values')\n",
    "plt.title('Test Data: gold Closing Price Predictions vs True Values')\n",
    "plt.xlabel('Time')\n",
    "plt.ylabel('Normalized Price')\n",
    "plt.legend()\n",
    "plt.show()\n"
   ]
  },
  {
   "attachments": {},
   "cell_type": "markdown",
   "metadata": {},
   "source": [
    "Accuracy"
   ]
  },
  {
   "cell_type": "code",
   "execution_count": null,
   "metadata": {},
   "outputs": [],
   "source": [
    "# diff\n",
    "train_true_labels = pd.Series(train_true_labels)\n",
    "test_true_labels = pd.Series(test_true_labels)\n",
    "train_predictions = pd.Series(train_predictions)\n",
    "test_predictions = pd.Series(test_predictions)\n",
    "\n",
    "train_true_changes, train_predicted_changes = np.sign(np.diff(train_true_labels)), np.sign(np.diff(train_predictions))\n",
    "test_true_changes, test_predicted_changes = np.sign(np.diff(test_true_labels)), np.sign(np.diff(test_predictions))\n",
    "\n",
    "print('train_true_changes:', type(train_true_labels))\n",
    "#accuracy\n",
    "print(train_true_changes == train_predicted_changes)\n",
    "train_accuracy = np.sum(train_true_changes == train_predicted_changes) / len(train_true_labels)\n",
    "test_accuracy = np.sum(test_true_changes == test_predicted_changes) / len(test_true_labels)\n",
    "\n",
    "print(f\"train accuracy:  {train_accuracy * 100:.2f}%\")\n",
    "print(f\"Test Accuracy: {test_accuracy * 100:.2f}%\")\n",
    "\n",
    "# Plot true labels and predictions for training data\n",
    "\n"
   ]
  }
 ],
 "metadata": {
  "kernelspec": {
   "display_name": "base",
   "language": "python",
   "name": "python3"
  },
  "language_info": {
   "codemirror_mode": {
    "name": "ipython",
    "version": 3
   },
   "file_extension": ".py",
   "mimetype": "text/x-python",
   "name": "python",
   "nbconvert_exporter": "python",
   "pygments_lexer": "ipython3",
   "version": "3.10.10"
  },
  "orig_nbformat": 4
 },
 "nbformat": 4,
 "nbformat_minor": 2
}
