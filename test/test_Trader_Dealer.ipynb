{
 "cells": [
  {
   "cell_type": "code",
   "execution_count": null,
   "metadata": {},
   "outputs": [],
   "source": [
    "import yfinance as  yf\n",
    "import backtesting\n",
    "import pandas as pd\n",
    "import numpy as np"
   ]
  },
  {
   "cell_type": "code",
   "execution_count": null,
   "metadata": {},
   "outputs": [],
   "source": [
    "base_df = yf.download('^DJI', start='2022-01-01', end='2022-12-31')\n",
    "base_df['Date'] = base_df.index\n",
    "# view_low_volume_df = base_df[base_df['Volume'] < 1000]\n",
    "# view_low_volume_df\n",
    "# base_df"
   ]
  },
  {
   "cell_type": "code",
   "execution_count": null,
   "metadata": {},
   "outputs": [],
   "source": [
    "df = pd.read_csv('./data/FinComYY.txt')\n",
    "df['Report_Date_as_YYYY-MM-DD'] = pd.to_datetime(df['Report_Date_as_YYYY-MM-DD'])  # Convert the column to datetime if not already in datetime format\n",
    "\n",
    "start_date = pd.to_datetime('2022-01-01')\n",
    "end_date = pd.to_datetime('2022-12-31')\n",
    "\n",
    "# Boolean indexing to select rows within the date range\n",
    "selected_rows = df[(df['Report_Date_as_YYYY-MM-DD'] >= start_date) & (df['Report_Date_as_YYYY-MM-DD'] <= end_date) & (df['Market_and_Exchange_Names'] == 'DJIA Consolidated - CHICAGO BOARD OF TRADE')]\n",
    "selected_rows.set_index('Report_Date_as_YYYY-MM-DD', inplace=True)\n",
    "# selected_rows"
   ]
  },
  {
   "cell_type": "code",
   "execution_count": null,
   "metadata": {},
   "outputs": [],
   "source": [
    "merged_df = base_df.merge(selected_rows, left_on=base_df.index, right_on='Report_Date_as_YYYY-MM-DD', how = 'outer').fillna(method='bfill')\n",
    "merged_df.columns\n",
    "merged_df.set_index('Date', inplace=True)\n",
    "# merged_df\n",
    "# backtest 需要的dataframe的index需要是datetime"
   ]
  },
  {
   "cell_type": "code",
   "execution_count": null,
   "metadata": {},
   "outputs": [],
   "source": [
    "from strategies.FollowTraderDealer import FollowTraderDealer\n",
    "from strategies.SmaCross import SmaCross\n",
    "from backtesting import Backtest, Strategy\n",
    "from backtesting.lib import plot_heatmaps\n",
    "\n",
    "strategies = [SmaCross]  # Add other strategies if needed\n",
    "weights = [1.0]  # Adjust weights based on preference\n",
    "\n",
    "test_strategy = FollowTraderDealer\n",
    "\n",
    "bt = Backtest(merged_df, test_strategy, cash=1e10, hedging=True,exclusive_orders=True, trade_on_close=True)\n",
    "# results, heatmap = bt.optimize(threshold = list(np.arange(0,1,0.05)), exit_portion = list(np.arange(0,1,0.05)),maximize='Sharpe Ratio', return_heatmap=True)\n",
    "results, heatmap = bt.optimize(threshold = list(np.arange(0,1,0.05)), x = list(np.arange(0,1,0.05)),y = list(np.arange(0,1,0.05)), maximize='Sharpe Ratio', return_heatmap=True, constraint=lambda p: p.x + p.y <= 1 and p.x > p.y)\n",
    "bt.plot(results = results)\n"
   ]
  },
  {
   "cell_type": "code",
   "execution_count": null,
   "metadata": {},
   "outputs": [],
   "source": [
    "\n",
    "plot_heatmaps(heatmap)\n",
    "results = bt.run()\n",
    "print(results)"
   ]
  },
  {
   "cell_type": "code",
   "execution_count": null,
   "metadata": {},
   "outputs": [],
   "source": [
    "import inspect\n",
    "\n",
    "inspect.signature(Strategy.__init__).parameters"
   ]
  },
  {
   "cell_type": "code",
   "execution_count": null,
   "metadata": {},
   "outputs": [],
   "source": [
    "from strategies.CompoundStrategy import CompoundStrategy\n",
    "from backtesting import Backtest, Strategy\n",
    "from backtesting.lib import crossover, SignalStrategy, TrailingStrategy, plot_heatmaps, crossover\n",
    "from backtesting.test import SMA\n",
    "import pandas as pd\n",
    "\n",
    "final_strategy = CompoundStrategy\n",
    "bt = Backtest(merged_df, final_strategy, cash=1e8, hedging=True,exclusive_orders=True, trade_on_close=True)\n",
    "results, heatmap = bt.optimize(n1=range(5, 20, 1), n2 = range(5, 20, 1), exit_portion = list(np.arange(0,1,0.05)),maximize='Sharpe Ratio', constraint=lambda p: p.n1 < p.n2, return_heatmap=True)\n",
    "bt.plot(results = results)\n",
    "plot_heatmaps(heatmap)\n",
    "print(results)"
   ]
  }
 ],
 "metadata": {
  "kernelspec": {
   "display_name": "Python 3",
   "language": "python",
   "name": "python3"
  },
  "language_info": {
   "codemirror_mode": {
    "name": "ipython",
    "version": 3
   },
   "file_extension": ".py",
   "mimetype": "text/x-python",
   "name": "python",
   "nbconvert_exporter": "python",
   "pygments_lexer": "ipython3",
   "version": "3.11.0"
  },
  "orig_nbformat": 4
 },
 "nbformat": 4,
 "nbformat_minor": 2
}
