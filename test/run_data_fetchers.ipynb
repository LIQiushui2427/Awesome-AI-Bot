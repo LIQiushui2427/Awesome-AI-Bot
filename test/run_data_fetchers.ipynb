{
 "cells": [
  {
   "cell_type": "code",
   "execution_count": null,
   "metadata": {},
   "outputs": [],
   "source": [
    "import sys\n",
    "import os\n",
    "# setting path\n",
    "sys.path.append('C:/Users/lqs/OneDrive - The Chinese University of Hong Kong/projects')\n",
    "from data_fetchers.data_fetchers_for_Cot import *"
   ]
  },
  {
   "cell_type": "code",
   "execution_count": null,
   "metadata": {},
   "outputs": [],
   "source": [
    "df = fetchers_for_com_disagg(output_dir = os.path.join(os.path.dirname(os.getcwd()), 'data'), output_file = 'GOLD.csv', yf_code = 'GC=F', cftc_market_code = '088691',   start_date = '2010-01-01', end_date='2023-6-27')\n",
    "df"
   ]
  },
  {
   "cell_type": "code",
   "execution_count": null,
   "metadata": {},
   "outputs": [],
   "source": [
    "df = fetcher_for_fut_disgg(output_dir = os.path.join(os.path.dirname(os.getcwd()), 'data'), output_file = 'GOLD.txt', yf_code = 'GC=F', cftc_market_code = '088691',   start_date = '2022-01-01', end_date='2022-12-31')"
   ]
  },
  {
   "cell_type": "code",
   "execution_count": null,
   "metadata": {},
   "outputs": [],
   "source": [
    "df = fetchers_for_Traders_Finance_Futures(output_dir = os.path.join(os.path.dirname(os.getcwd()), 'data'), output_file = 'S&P.txt', yf_code = '^GSPC', cftc_market_code = '13874+',   start_date = '2022-01-01', end_date='2022-12-31')\n",
    "df"
   ]
  },
  {
   "cell_type": "code",
   "execution_count": null,
   "metadata": {},
   "outputs": [],
   "source": [
    "df = fetchers_for_Traders_Finance_Combined(output_dir = os.path.join(os.path.dirname(os.getcwd()), 'data'), output_file = 'S&P.txt', yf_code = '^GSPC', cftc_market_code = '13874+',   start_date = '2022-01-01', end_date='2022-12-31')\n",
    "df"
   ]
  }
 ],
 "metadata": {
  "kernelspec": {
   "display_name": "Python 3",
   "language": "python",
   "name": "python3"
  },
  "language_info": {
   "codemirror_mode": {
    "name": "ipython",
    "version": 3
   },
   "file_extension": ".py",
   "mimetype": "text/x-python",
   "name": "python",
   "nbconvert_exporter": "python",
   "pygments_lexer": "ipython3",
   "version": "3.10.10"
  },
  "orig_nbformat": 4
 },
 "nbformat": 4,
 "nbformat_minor": 2
}
