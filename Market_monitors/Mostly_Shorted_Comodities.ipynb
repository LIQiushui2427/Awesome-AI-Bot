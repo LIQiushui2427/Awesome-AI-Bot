{
 "cells": [
  {
   "cell_type": "code",
   "execution_count": null,
   "metadata": {},
   "outputs": [],
   "source": [
    "import sys, os\n",
    "sys.path.append(os.path.abspath('..')) # add parent folder to path\n",
    "import pandas_ta as pta\n",
    "import matplotlib.pyplot as plt\n",
    "\n",
    "import pandas as pd"
   ]
  },
  {
   "cell_type": "code",
   "execution_count": null,
   "metadata": {},
   "outputs": [],
   "source": [
    "datapath = '../data/GOLD.csv'\n",
    "df = pd.read_csv(datapath, index_col=2)\n",
    "df.index = pd.to_datetime(df.index)\n",
    "df\n"
   ]
  },
  {
   "cell_type": "code",
   "execution_count": null,
   "metadata": {},
   "outputs": [],
   "source": [
    "def get_Most_Short_Comodity(datapath, start_date, end_date):\n",
    "    df = pd.read_csv(datapath)\n",
    "    selected_df = df.loc[(df['Report_Date_as_YYYY-MM-DD'] >= start_date) & (df['Report_Date_as_YYYY-MM-DD'] <= end_date)]\n",
    "    grouped_df = selected_df.groupby('Report_Date_as_YYYY-MM-DD')['Pct_of_OI_M_Money_Short_All'].max()\n",
    "    grouped_df = grouped_df.to_frame()\n",
    "    ret = pd.merge(grouped_df,df, on=['Report_Date_as_YYYY-MM-DD', 'Pct_of_OI_M_Money_Short_All'] , how='left')[['Report_Date_as_YYYY-MM-DD', 'Market_and_Exchange_Names', 'Pct_of_OI_M_Money_Short_All']]\n",
    "    # print(ret)\n",
    "    return ret"
   ]
  },
  {
   "cell_type": "code",
   "execution_count": null,
   "metadata": {},
   "outputs": [],
   "source": [
    "def get_low_short_Comodities(datapath, start_date, end_date):\n",
    "    df = pd.read_csv(datapath)\n",
    "    selected_df = df.loc[(df['Report_Date_as_YYYY-MM-DD'] >= start_date) & (df['Report_Date_as_YYYY-MM-DD'] <= end_date)]\n",
    "    \n",
    "    selected_df['Report_Date_as_YYYY-MM-DD'] = pd.to_datetime(selected_df['Report_Date_as_YYYY-MM-DD'])\n",
    "    selected_df.set_index('Report_Date_as_YYYY-MM-DD', inplace=True)\n",
    "    \n",
    "    grouped_df = selected_df.groupby('Market_and_Exchange_Names')\n",
    "    \n",
    "    frames = []  # To store the dataframes we're interested in\n",
    "    \n",
    "    for name, group in grouped_df:\n",
    "        group['Rolling_Mean'] = group['Pct_of_OI_M_Money_Short_All'].rolling(20).mean()\n",
    "        group['Rolling_Std'] = group['Pct_of_OI_M_Money_Short_All'].rolling(20).std()\n",
    "        group = group[group['Pct_of_OI_M_Money_Short_All'] > (group['Rolling_Mean'] + 2 * group['Rolling_Std'])]\n",
    "        frames.append(group)\n",
    "        \n",
    "    # Concatenate all the dataframes we're interested in\n",
    "    result = pd.concat(frames)\n",
    "    \n",
    "    # Sort the result by date\n",
    "    result = result.sort_index()\n",
    "    \n",
    "    # Save the result to a CSV file\n",
    "    result.to_csv('../data/tempcsv.csv')\n",
    "    \n",
    "    # Concatenate all the dataframes we're interested in\n",
    "\n",
    "\n"
   ]
  },
  {
   "cell_type": "code",
   "execution_count": null,
   "metadata": {},
   "outputs": [],
   "source": [
    "def get_most_outstanding_short_Comodities(datapath, start_date, end_date):\n",
    "    \n",
    "    df = pd.read_csv(datapath)\n",
    "    selected_df = df.loc[(df['Report_Date_as_YYYY-MM-DD'] >= start_date) & (df['Report_Date_as_YYYY-MM-DD'] <= end_date)]\n",
    "    \n",
    "    selected_df['Report_Date_as_YYYY-MM-DD'] = pd.to_datetime(selected_df['Report_Date_as_YYYY-MM-DD'])\n",
    "    selected_df.set_index('Report_Date_as_YYYY-MM-DD', inplace=True)\n",
    "    \n",
    "    grouped_df = selected_df.groupby('Market_and_Exchange_Names')\n",
    "    \n",
    "    frames = []  # To store the dataframes we're interested in\n",
    "    \n",
    "    for name, group in grouped_df:\n",
    "        group['Rolling_Mean'] = group['Pct_of_OI_M_Money_Short_All'].rolling(20).mean()\n",
    "        group['Rolling_Std'] = group['Pct_of_OI_M_Money_Short_All'].rolling(20).std()\n",
    "        group = group[group['Pct_of_OI_M_Money_Short_All'] > (group['Rolling_Mean'] + 2 * group['Rolling_Std'])]\n",
    "        group['Commodity'] = name  # Add the commodity name to the DataFrame\n",
    "        frames.append(group)\n",
    "        \n",
    "    # Concatenate all the dataframes we're interested in\n",
    "    result = pd.concat(frames)\n",
    "    \n",
    "    # Sort the result by date\n",
    "    result = result.sort_index()\n",
    "\n",
    "    # Get the commodity with max standard deviation for each day\n",
    "    result['Excess'] = (result['Pct_of_OI_M_Money_Short_All'] - result['Rolling_Mean']) / result['Rolling_Std']\n",
    "    \n",
    "    result = result.reset_index()  # Reset the index so 'Report_Date_as_YYYY-MM-DD' is a column again\n",
    "\n",
    "    most_shorted_each_day = result.loc[result.groupby('Report_Date_as_YYYY-MM-DD')['Excess'].idxmax()][['Report_Date_as_YYYY-MM-DD', 'Market_and_Exchange_Names', 'Excess']]\n",
    "\n",
    "    print(most_shorted_each_day)\n",
    "    \n",
    "    # Save the result to a CSV file\n",
    "    most_shorted_each_day.to_csv('../data/tempcsv.csv', index=False)\n",
    "\n"
   ]
  },
  {
   "cell_type": "code",
   "execution_count": null,
   "metadata": {},
   "outputs": [],
   "source": [
    "test = get_most_outstanding_short_Comodities(datapath, '2019-01-01', '2022-12-31')"
   ]
  },
  {
   "cell_type": "code",
   "execution_count": null,
   "metadata": {},
   "outputs": [],
   "source": [
    "test = get_low_short_Comodities(datapath, '2020-01-01', '2022-12-31')"
   ]
  },
  {
   "cell_type": "code",
   "execution_count": null,
   "metadata": {},
   "outputs": [],
   "source": [
    "ret = get_Most_Short_Comodity(datapath, '2019-01-01', '2022-12-31')\n",
    "ret.to_csv('../data/Most_Short_Comodity.csv', index=False)"
   ]
  }
 ],
 "metadata": {
  "kernelspec": {
   "display_name": "base",
   "language": "python",
   "name": "python3"
  },
  "language_info": {
   "codemirror_mode": {
    "name": "ipython",
    "version": 3
   },
   "file_extension": ".py",
   "mimetype": "text/x-python",
   "name": "python",
   "nbconvert_exporter": "python",
   "pygments_lexer": "ipython3",
   "version": "3.10.10"
  },
  "orig_nbformat": 4
 },
 "nbformat": 4,
 "nbformat_minor": 2
}
