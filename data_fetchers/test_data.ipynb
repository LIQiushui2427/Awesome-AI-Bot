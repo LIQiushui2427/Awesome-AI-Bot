{
 "cells": [
  {
   "cell_type": "code",
   "execution_count": null,
   "metadata": {},
   "outputs": [],
   "source": [
    "# Fetch data for market width divergence analysis. The market width data comes from datalouder api. After downloaded the data, the data will be saved in the data fold.\n",
    "import sys\n",
    "sys.path.append('C:/Users/lqs/OneDrive - The Chinese University of Hong Kong/projects')\n",
    "import apis.api_datalouder as api\n",
    "import pandas as pd\n",
    "\n",
    "\n",
    "info_00700 = pd.DataFrame(api.query_price('US#^GSPC'))\n",
    "# info_00700.columns : Index(['dt', 'o', 'l', 'h', 'c', 'v', 't'], dtype='object')\n",
    "info_00700.rename(columns={'dt':'Date', 'o':'Open', 'l':'Low', 'h':'High', 'c':'Close', 'v':'Volume', 't':'Ticker'}, inplace=True)\n",
    "info_00700.set_index('Date', inplace=True)\n",
    "info_00700.index = pd.to_datetime(info_00700.index)\n",
    "info_00700\n",
    "\n",
    "\n",
    "market_breadth_hsi = pd.DataFrame(api.query_market_breadth('US#^GSPC'))\n",
    "market_breadth_hsi.rename(columns={'dt':'Date'}, inplace=True)\n",
    "market_breadth_hsi.set_index('Date', inplace=True)\n",
    "market_breadth_hsi.index = pd.to_datetime(market_breadth_hsi.index)\n",
    "market_breadth_hsi\n",
    "\n",
    "\n",
    "assert info_00700 is not None\n",
    "assert market_breadth_hsi is not None\n",
    "join_df = pd.merge(info_00700, market_breadth_hsi, left_index=True, right_index=True)\n",
    "\n",
    "\n",
    "join_df.head()\n",
    "\n",
    "\n",
    "# save the data\n",
    "join_df.to_csv('./data/US#^GSPC.csv')"
   ]
  },
  {
   "cell_type": "code",
   "execution_count": null,
   "metadata": {},
   "outputs": [],
   "source": [
    "import os\n",
    "print(os.getcwd())\n",
    "os.chdir('C:/Users/lqs/OneDrive - The Chinese University of Hong Kong/projects')\n",
    "test_df = pd.read_csv('./data/US#^GSPC.csv')\n",
    "test_df.head()"
   ]
  }
 ],
 "metadata": {
  "kernelspec": {
   "display_name": "Python 3",
   "language": "python",
   "name": "python3"
  },
  "language_info": {
   "codemirror_mode": {
    "name": "ipython",
    "version": 3
   },
   "file_extension": ".py",
   "mimetype": "text/x-python",
   "name": "python",
   "nbconvert_exporter": "python",
   "pygments_lexer": "ipython3",
   "version": "3.11.0"
  },
  "orig_nbformat": 4
 },
 "nbformat": 4,
 "nbformat_minor": 2
}
