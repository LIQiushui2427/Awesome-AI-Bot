{
 "cells": [
  {
   "cell_type": "code",
   "execution_count": 1,
   "metadata": {},
   "outputs": [],
   "source": [
    "import sys\n",
    "import os\n",
    "sys.path.append(os.path.abspath('..')) # add parent folder to path\n",
    "import backtrader as bt\n",
    "import pandas as pd\n",
    "import matplotlib\n",
    "matplotlib.use('QT5Agg')\n"
   ]
  },
  {
   "cell_type": "code",
   "execution_count": 2,
   "metadata": {},
   "outputs": [],
   "source": [
    "dataname='../data/GC=F_com_disagg.csv'\n",
    "# data = OHLCAVWithDisaggCoT(dataname=dataname)\n",
    "\n",
    "cerebro = bt.Cerebro()\n",
    "df = pd.read_csv(dataname, index_col=0)\n",
    "df.index = pd.to_datetime(df.index)\n",
    "# df\n"
   ]
  },
  {
   "cell_type": "code",
   "execution_count": 3,
   "metadata": {},
   "outputs": [],
   "source": [
    "from data_feeds.CoT_Dissag import PandasData_more\n",
    "from strategies.btStrategy import MyStrategy\n",
    "\n",
    "data = PandasData_more(dataname=df)\n",
    "\n",
    "# data = OHLCAVWithDisaggCoT(dataname = dataname)\n",
    "\n",
    "cerebro.addstrategy(MyStrategy)\n",
    "\n",
    "cerebro.adddata(data)\n",
    "\n",
    "# cerebro.addstrategy(MyStrategy)\n",
    "# cerebro.add_signal(bt.SIGNAL_LONG, SMACloseSignal, period = 10)\n",
    "# cerebro.add_signal(bt.SIGNAL_LONGSHORT, MySignal)\n",
    "\n",
    "# 初始资金 100,000,000\n",
    "cerebro.broker.setcash(1e6)\n",
    "# 佣金，双边各 0.0003\n",
    "cerebro.broker.setcommission(commission=0.0003)\n",
    "# 滑点：双边各 0.0001\n",
    "cerebro.broker.set_slippage_perc(perc=0.0001)\n",
    "\n",
    "cerebro.addobserver(bt.observers.BuySell) # 买卖交易点\n",
    "cerebro.addobserver(bt.observers.Value) # 价值\n",
    "\n",
    "\n",
    "cerebro.addanalyzer(bt.analyzers.TimeReturn, _name='pnl') # 返回收益率时序数据\n",
    "cerebro.addanalyzer(bt.analyzers.AnnualReturn, _name='_AnnualReturn') # 年化收益率\n",
    "cerebro.addanalyzer(bt.analyzers.SharpeRatio, _name='_SharpeRatio') # 夏普比率\n",
    "cerebro.addanalyzer(bt.analyzers.DrawDown, _name='_DrawDown') # 回撤\n"
   ]
  },
  {
   "cell_type": "code",
   "execution_count": 4,
   "metadata": {},
   "outputs": [
    {
     "name": "stdout",
     "output_type": "stream",
     "text": [
      "init\n",
      "--------- 打印 self.datas 第一个数据表格的 lines ----------\n",
      "('close', 'low', 'high', 'open', 'volume', 'openinterest', 'datetime', 'Tot_Rept_Positions_Long_All', 'Tot_Rept_Positions_Short_All', 'M_Money_Positions_Long_All', 'M_Money_Positions_Short_All', 'Pct_of_OI_M_Money_Short_All', 'Pct_of_OI_M_Money_Long_All', 'Pct_of_OI_Tot_Rept_Short_All', 'Pct_of_OI_Tot_Rept_Long_All')\n",
      "--------------- AnnualReturn -----------------\n",
      "OrderedDict([(2019, -0.0009973193870866925), (2020, -0.009919295595442468), (2021, 0.0017986881518472497), (2022, 0.0011767323686870945)])\n",
      "--------------- SharpeRatio -----------------\n",
      "OrderedDict([('sharperatio', -2.5517765550806404)])\n",
      "--------------- DrawDown -----------------\n",
      "AutoOrderedDict([('len', 67), ('drawdown', 1.4086501277883314), ('moneydown', 14174.011571275303), ('max', AutoOrderedDict([('len', 586), ('drawdown', 2.3611482812911273), ('moneydown', 23622.352193525876)]))])\n"
     ]
    }
   ],
   "source": [
    "# 启动回测\n",
    "result = cerebro.run()\n",
    "cerebro.plot(iplot= False)\n",
    "# 从返回的 result 中提取回测结果\n",
    "strat = result[0]\n",
    "# 返回日度收益率序列\n",
    "daily_return = pd.Series(strat.analyzers.pnl.get_analysis())\n",
    "# 打印评价指标\n",
    "print(\"--------------- AnnualReturn -----------------\")\n",
    "print(strat.analyzers._AnnualReturn.get_analysis())\n",
    "print(\"--------------- SharpeRatio -----------------\")\n",
    "print(strat.analyzers._SharpeRatio.get_analysis())\n",
    "print(\"--------------- DrawDown -----------------\")\n",
    "print(strat.analyzers._DrawDown.get_analysis())\n",
    "\n"
   ]
  }
 ],
 "metadata": {
  "kernelspec": {
   "display_name": "Python 3",
   "language": "python",
   "name": "python3"
  },
  "language_info": {
   "codemirror_mode": {
    "name": "ipython",
    "version": 3
   },
   "file_extension": ".py",
   "mimetype": "text/x-python",
   "name": "python",
   "nbconvert_exporter": "python",
   "pygments_lexer": "ipython3",
   "version": "3.10.10"
  },
  "orig_nbformat": 4
 },
 "nbformat": 4,
 "nbformat_minor": 2
}
