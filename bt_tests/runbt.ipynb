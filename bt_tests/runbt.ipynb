{
 "cells": [
  {
   "cell_type": "code",
   "execution_count": 1,
   "metadata": {},
   "outputs": [],
   "source": [
    "# %matplotlib inline\n",
    "import sys\n",
    "import os\n",
    "sys.path.append(os.path.abspath('..')) # add parent folder to path\n",
    "import backtrader as bt\n",
    "import pandas as pd\n",
    "import matplotlib\n",
    "# matplotlib.use('QT5Agg')"
   ]
  },
  {
   "cell_type": "code",
   "execution_count": 2,
   "metadata": {},
   "outputs": [],
   "source": [
    "dataname='../data/Temp.csv'\n",
    "\n",
    "cerebro = bt.Cerebro()\n",
    "df = pd.read_csv(dataname, index_col=0)\n",
    "df.index = pd.to_datetime(df.index)\n",
    "# df"
   ]
  },
  {
   "cell_type": "code",
   "execution_count": 3,
   "metadata": {},
   "outputs": [],
   "source": [
    "from data_feeds.CoT_Dissag import DataFeedForAI\n",
    "from strategies.AIStrategy import AIStrategy\n",
    "\n",
    "data = DataFeedForAI(dataname=df)\n",
    "\n",
    "cerebro.addstrategy(AIStrategy)\n",
    "\n",
    "cerebro.adddata(data)\n",
    "\n",
    "# 初始资金 100,000,000\n",
    "cerebro.broker.setcash(2e3)\n",
    "# 佣金，双边各 0.0003\n",
    "cerebro.broker.setcommission(commission=0.0003)\n",
    "# 滑点：双边各 0.0001\n",
    "cerebro.broker.set_slippage_perc(perc=0.0001)\n",
    "\n",
    "cerebro.addobserver(bt.observers.BuySell) # 买卖交易点\n",
    "cerebro.addobserver(bt.observers.Value) # 价值\n",
    "\n",
    "\n",
    "cerebro.addanalyzer(bt.analyzers.TimeReturn, _name='pnl') # 返回收益率时序数据\n",
    "cerebro.addanalyzer(bt.analyzers.AnnualReturn, _name='_AnnualReturn') # 年化收益率\n",
    "cerebro.addanalyzer(bt.analyzers.SharpeRatio, _name='_SharpeRatio') # 夏普比率\n",
    "cerebro.addanalyzer(bt.analyzers.DrawDown, _name='_DrawDown') # 回撤"
   ]
  },
  {
   "cell_type": "code",
   "execution_count": 4,
   "metadata": {},
   "outputs": [
    {
     "name": "stdout",
     "output_type": "stream",
     "text": [
      "init\n",
      "self.data0:\n",
      "('close', 'low', 'high', 'open', 'volume', 'openinterest', 'datetime', 'Col_1', 'Col_2', 'Col_3', 'Col_4', 'Col_5', 'Col_6', 'Col_7')\n",
      "Bt starting...\n",
      "2023-01-24, SELL EXECUTED, Price: 1931.80, Cost: -1931.80, Comm 0.58\n",
      "2023-02-07, BUY EXECUTED, Price: 1870.19, Cost: -1931.80, Comm 0.56\n",
      "2023-02-07, SELL EXECUTED, Price: 1869.81, Cost: -1869.81, Comm 0.56\n",
      "2023-02-07, OPERATION PROFIT, GROSS 61.61, NET 60.47\n",
      "2023-02-16, BUY EXECUTED, Price: 1838.78, Cost: -1869.81, Comm 0.55\n",
      "2023-02-16, BUY EXECUTED, Price: 1838.78, Cost: 1838.78, Comm 0.55\n",
      "2023-02-16, OPERATION PROFIT, GROSS 31.03, NET 29.92\n",
      "2023-02-22, SELL EXECUTED, Price: 1835.52, Cost: 1838.78, Comm 0.55\n",
      "2023-02-22, SELL EXECUTED, Price: 1835.52, Cost: -1835.52, Comm 0.55\n",
      "2023-02-22, OPERATION PROFIT, GROSS -3.27, NET -4.37\n",
      "2023-02-23, BUY EXECUTED, Price: 1826.58, Cost: -1835.52, Comm 0.55\n",
      "2023-02-23, BUY EXECUTED, Price: 1826.58, Cost: 1826.58, Comm 0.55\n",
      "2023-02-23, OPERATION PROFIT, GROSS 8.93, NET 7.84\n",
      "2023-02-27, SELL EXECUTED, Price: 1811.42, Cost: 1826.58, Comm 0.54\n",
      "2023-02-27, SELL EXECUTED, Price: 1811.42, Cost: -1811.42, Comm 0.54\n",
      "2023-02-27, OPERATION PROFIT, GROSS -15.16, NET -16.26\n",
      "2023-03-03, BUY EXECUTED, Price: 1837.48, Cost: -1811.42, Comm 0.55\n",
      "2023-03-03, BUY EXECUTED, Price: 1837.48, Cost: 1837.48, Comm 0.55\n",
      "2023-03-03, OPERATION PROFIT, GROSS -26.06, NET -27.16\n",
      "2023-05-22, SELL EXECUTED, Price: 1980.30, Cost: 1837.48, Comm 0.59\n",
      "2023-05-22, SELL EXECUTED, Price: 1980.30, Cost: -1980.30, Comm 0.59\n",
      "2023-05-22, OPERATION PROFIT, GROSS 142.82, NET 141.67\n",
      "2023-05-24, BUY EXECUTED, Price: 1975.40, Cost: -1980.30, Comm 0.59\n",
      "2023-05-24, BUY EXECUTED, Price: 1975.40, Cost: 1975.40, Comm 0.59\n",
      "2023-05-24, OPERATION PROFIT, GROSS 4.90, NET 3.72\n",
      "2023-06-16, SELL EXECUTED, Price: 1961.20, Cost: 1975.40, Comm 0.59\n",
      "2023-06-16, SELL EXECUTED, Price: 1961.20, Cost: -1961.20, Comm 0.59\n",
      "2023-06-16, OPERATION PROFIT, GROSS -14.20, NET -15.38\n",
      "Bt ends.\n",
      "--------------- AnnualReturn -----------------\n",
      "OrderedDict([(2023, 0.1086829993501619)])\n",
      "--------------- SharpeRatio -----------------\n",
      "OrderedDict([('sharperatio', None)])\n",
      "--------------- DrawDown -----------------\n",
      "AutoOrderedDict([('len', 35), ('drawdown', 1.9040165244170524), ('moneydown', 43.038474692053114), ('max', AutoOrderedDict([('len', 35), ('drawdown', 4.329739212293142), ('moneydown', 97.86961884089806)]))])\n"
     ]
    }
   ],
   "source": [
    "# 启动回测\n",
    "result = cerebro.run()\n",
    "cerebro.plot(iplot= False)\n",
    "# 从返回的 result 中提取回测结果\n",
    "strat = result[0]\n",
    "# 返回日度收益率序列\n",
    "daily_return = pd.Series(strat.analyzers.pnl.get_analysis())\n",
    "# 打印评价指标\n",
    "print(\"--------------- AnnualReturn -----------------\")\n",
    "print(strat.analyzers._AnnualReturn.get_analysis())\n",
    "print(\"--------------- SharpeRatio -----------------\")\n",
    "print(strat.analyzers._SharpeRatio.get_analysis())\n",
    "print(\"--------------- DrawDown -----------------\")\n",
    "print(strat.analyzers._DrawDown.get_analysis())"
   ]
  }
 ],
 "metadata": {
  "kernelspec": {
   "display_name": "base",
   "language": "python",
   "name": "python3"
  },
  "language_info": {
   "codemirror_mode": {
    "name": "ipython",
    "version": 3
   },
   "file_extension": ".py",
   "mimetype": "text/x-python",
   "name": "python",
   "nbconvert_exporter": "python",
   "pygments_lexer": "ipython3",
   "version": "3.10.12"
  },
  "orig_nbformat": 4
 },
 "nbformat": 4,
 "nbformat_minor": 2
}
