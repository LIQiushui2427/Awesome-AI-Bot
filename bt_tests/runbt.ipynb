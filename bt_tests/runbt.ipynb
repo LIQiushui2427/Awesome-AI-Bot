{
 "cells": [
  {
   "cell_type": "code",
   "execution_count": 5,
   "metadata": {},
   "outputs": [],
   "source": [
    "# %matplotlib inline\n",
    "import sys\n",
    "import os\n",
    "sys.path.append(os.path.abspath('..')) # add parent folder to path\n",
    "import backtrader as bt\n",
    "import pandas as pd\n",
    "import matplotlib\n",
    "# matplotlib.use('QT5Agg')"
   ]
  },
  {
   "cell_type": "code",
   "execution_count": 6,
   "metadata": {},
   "outputs": [],
   "source": [
    "dataname='../data/Temp.csv'\n",
    "\n",
    "cerebro = bt.Cerebro()\n",
    "df = pd.read_csv(dataname, index_col=0)\n",
    "df.index = pd.to_datetime(df.index)\n",
    "# df"
   ]
  },
  {
   "cell_type": "code",
   "execution_count": 7,
   "metadata": {},
   "outputs": [],
   "source": [
    "from data_feeds.CoT_Dissag import DataFeedForAI\n",
    "from strategies.AIStrategy import AIStrategy\n",
    "\n",
    "data = DataFeedForAI(dataname=df)\n",
    "\n",
    "cerebro.addstrategy(AIStrategy)\n",
    "\n",
    "cerebro.adddata(data)\n",
    "\n",
    "# 初始资金 100,000,000\n",
    "cerebro.broker.setcash(2e3)\n",
    "# 佣金，双边各 0.0003\n",
    "cerebro.broker.setcommission(commission=0.0003)\n",
    "# 滑点：双边各 0.0001\n",
    "cerebro.broker.set_slippage_perc(perc=0.0001)\n",
    "\n",
    "cerebro.addobserver(bt.observers.BuySell) # 买卖交易点\n",
    "cerebro.addobserver(bt.observers.Value) # 价值\n",
    "\n",
    "\n",
    "cerebro.addanalyzer(bt.analyzers.TimeReturn, _name='pnl') # 返回收益率时序数据\n",
    "cerebro.addanalyzer(bt.analyzers.AnnualReturn, _name='_AnnualReturn') # 年化收益率\n",
    "cerebro.addanalyzer(bt.analyzers.SharpeRatio, _name='_SharpeRatio') # 夏普比率\n",
    "cerebro.addanalyzer(bt.analyzers.DrawDown, _name='_DrawDown') # 回撤"
   ]
  },
  {
   "cell_type": "code",
   "execution_count": 8,
   "metadata": {},
   "outputs": [
    {
     "name": "stdout",
     "output_type": "stream",
     "text": [
      "init\n",
      "self.data0:\n",
      "('close', 'low', 'high', 'open', 'volume', 'openinterest', 'datetime', 'Col_1', 'Col_2', 'Col_3', 'Col_4', 'Col_5', 'Col_6', 'Col_7')\n",
      "Bt starting...\n",
      "2023-01-19, SELL EXECUTED, Price: 1922.10, Cost: -1922.10, Comm 0.58\n",
      "2023-02-01, BUY EXECUTED, Price: 1927.39, Cost: -1922.10, Comm 0.58\n",
      "2023-02-01, SELL EXECUTED, Price: 1927.01, Cost: -1927.01, Comm 0.58\n",
      "2023-02-01, OPERATION PROFIT, GROSS -5.29, NET -6.45\n",
      "2023-03-06, BUY EXECUTED, Price: 1853.49, Cost: -1927.01, Comm 0.56\n",
      "2023-03-06, BUY EXECUTED, Price: 1853.49, Cost: 1853.49, Comm 0.56\n",
      "2023-03-06, OPERATION PROFIT, GROSS 73.52, NET 72.39\n",
      "2023-04-25, SELL EXECUTED, Price: 1995.50, Cost: 1853.49, Comm 0.60\n",
      "2023-04-25, SELL EXECUTED, Price: 1995.50, Cost: -1995.50, Comm 0.60\n",
      "2023-04-25, OPERATION PROFIT, GROSS 142.02, NET 140.86\n",
      "2023-05-04, BUY EXECUTED, Price: 2045.20, Cost: -1995.50, Comm 0.61\n",
      "2023-05-04, BUY EXECUTED, Price: 2045.20, Cost: 2045.20, Comm 0.61\n",
      "2023-05-04, OPERATION PROFIT, GROSS -49.70, NET -50.92\n",
      "2023-05-16, SELL EXECUTED, Price: 1988.40, Cost: 2045.20, Comm 0.60\n",
      "2023-05-16, SELL EXECUTED, Price: 1988.40, Cost: -1988.40, Comm 0.60\n",
      "2023-05-16, OPERATION PROFIT, GROSS -56.80, NET -58.01\n",
      "2023-05-30, BUY EXECUTED, Price: 1942.89, Cost: -1988.40, Comm 0.58\n",
      "2023-05-30, BUY EXECUTED, Price: 1942.89, Cost: 1942.89, Comm 0.58\n",
      "2023-05-30, OPERATION PROFIT, GROSS 45.51, NET 44.33\n",
      "2023-05-31, SELL EXECUTED, Price: 1958.00, Cost: 1942.89, Comm 0.59\n",
      "2023-05-31, SELL EXECUTED, Price: 1958.00, Cost: -1958.00, Comm 0.59\n",
      "2023-05-31, OPERATION PROFIT, GROSS 15.11, NET 13.94\n",
      "2023-06-01, BUY EXECUTED, Price: 1963.40, Cost: -1958.00, Comm 0.59\n",
      "2023-06-01, BUY EXECUTED, Price: 1963.40, Cost: 1963.40, Comm 0.59\n",
      "2023-06-01, OPERATION PROFIT, GROSS -5.39, NET -6.57\n",
      "2023-06-16, SELL EXECUTED, Price: 1961.20, Cost: 1963.40, Comm 0.59\n",
      "2023-06-16, SELL EXECUTED, Price: 1961.20, Cost: -1961.20, Comm 0.59\n",
      "2023-06-16, OPERATION PROFIT, GROSS -2.19, NET -3.37\n",
      "Bt ends.\n",
      "--------------- AnnualReturn -----------------\n",
      "OrderedDict([(2023, 0.08775639177660333)])\n",
      "--------------- SharpeRatio -----------------\n",
      "OrderedDict([('sharperatio', None)])\n",
      "--------------- DrawDown -----------------\n",
      "AutoOrderedDict([('len', 60), ('drawdown', 3.447809510263575), ('moneydown', 77.68600201392701), ('max', AutoOrderedDict([('len', 60), ('drawdown', 6.920193904003662), ('moneydown', 155.92572500390133)]))])\n"
     ]
    }
   ],
   "source": [
    "# 启动回测\n",
    "result = cerebro.run()\n",
    "cerebro.plot(iplot= False)\n",
    "# 从返回的 result 中提取回测结果\n",
    "strat = result[0]\n",
    "# 返回日度收益率序列\n",
    "daily_return = pd.Series(strat.analyzers.pnl.get_analysis())\n",
    "# 打印评价指标\n",
    "print(\"--------------- AnnualReturn -----------------\")\n",
    "print(strat.analyzers._AnnualReturn.get_analysis())\n",
    "print(\"--------------- SharpeRatio -----------------\")\n",
    "print(strat.analyzers._SharpeRatio.get_analysis())\n",
    "print(\"--------------- DrawDown -----------------\")\n",
    "print(strat.analyzers._DrawDown.get_analysis())"
   ]
  }
 ],
 "metadata": {
  "kernelspec": {
   "display_name": "base",
   "language": "python",
   "name": "python3"
  },
  "language_info": {
   "codemirror_mode": {
    "name": "ipython",
    "version": 3
   },
   "file_extension": ".py",
   "mimetype": "text/x-python",
   "name": "python",
   "nbconvert_exporter": "python",
   "pygments_lexer": "ipython3",
   "version": "3.10.12"
  },
  "orig_nbformat": 4
 },
 "nbformat": 4,
 "nbformat_minor": 2
}
