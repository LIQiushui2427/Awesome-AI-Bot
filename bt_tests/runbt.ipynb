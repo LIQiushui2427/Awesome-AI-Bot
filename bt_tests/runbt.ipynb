{
 "cells": [
  {
   "cell_type": "code",
   "execution_count": 1,
   "metadata": {},
   "outputs": [],
   "source": [
    "# %matplotlib inline\n",
    "import sys\n",
    "import os\n",
    "sys.path.append(os.path.abspath('..')) # add parent folder to path\n",
    "import backtrader as bt\n",
    "import pandas as pd\n",
    "import matplotlib\n",
    "# matplotlib.use('QT5Agg')"
   ]
  },
  {
   "cell_type": "code",
   "execution_count": 2,
   "metadata": {},
   "outputs": [],
   "source": [
    "dataname='../data/Temp.csv'\n",
    "\n",
    "cerebro = bt.Cerebro()\n",
    "df = pd.read_csv(dataname, index_col=0)\n",
    "df.index = pd.to_datetime(df.index)\n",
    "# df"
   ]
  },
  {
   "cell_type": "code",
   "execution_count": 3,
   "metadata": {},
   "outputs": [],
   "source": [
    "from data_feeds.CoT_Dissag import DataFeedForAI\n",
    "from strategies.AIStrategy import AIStrategy\n",
    "\n",
    "data = DataFeedForAI(dataname=df)\n",
    "\n",
    "cerebro.addstrategy(AIStrategy)\n",
    "\n",
    "cerebro.adddata(data)\n",
    "\n",
    "# 初始资金 100,000,000\n",
    "cerebro.broker.setcash(2e3)\n",
    "# 佣金，双边各 0.0003\n",
    "cerebro.broker.setcommission(commission=0.0003)\n",
    "# 滑点：双边各 0.0001\n",
    "cerebro.broker.set_slippage_perc(perc=0.0001)\n",
    "\n",
    "cerebro.addobserver(bt.observers.BuySell) # 买卖交易点\n",
    "cerebro.addobserver(bt.observers.Value) # 价值\n",
    "\n",
    "\n",
    "cerebro.addanalyzer(bt.analyzers.TimeReturn, _name='pnl') # 返回收益率时序数据\n",
    "cerebro.addanalyzer(bt.analyzers.AnnualReturn, _name='_AnnualReturn') # 年化收益率\n",
    "cerebro.addanalyzer(bt.analyzers.SharpeRatio, _name='_SharpeRatio') # 夏普比率\n",
    "cerebro.addanalyzer(bt.analyzers.DrawDown, _name='_DrawDown') # 回撤"
   ]
  },
  {
   "cell_type": "code",
   "execution_count": 4,
   "metadata": {},
   "outputs": [
    {
     "name": "stdout",
     "output_type": "stream",
     "text": [
      "init\n",
      "self.data0:\n",
      "('close', 'low', 'high', 'open', 'volume', 'openinterest', 'datetime', 'Col_1', 'Col_2', 'Col_3', 'Col_4', 'Col_5', 'Col_6', 'Col_7')\n",
      "Bt starting...\n",
      "2023-01-24, SELL EXECUTED, Price: 1931.80, Cost: -1545.44, Comm 0.46\n",
      "2023-01-30, BUY EXECUTED, Price: 1928.49, Cost: -1545.44, Comm 0.46\n",
      "2023-01-30, SELL EXECUTED, Price: 1928.11, Cost: -1542.49, Comm 0.46\n",
      "2023-01-30, OPERATION PROFIT, GROSS 2.65, NET 1.72\n",
      "2023-01-31, BUY EXECUTED, Price: 1923.19, Cost: -1542.49, Comm 0.46\n",
      "2023-01-31, BUY EXECUTED, Price: 1923.19, Cost: 1538.55, Comm 0.46\n",
      "2023-01-31, OPERATION PROFIT, GROSS 3.93, NET 3.01\n",
      "2023-02-01, SELL EXECUTED, Price: 1927.01, Cost: 1538.55, Comm 0.46\n",
      "2023-02-01, SELL EXECUTED, Price: 1927.01, Cost: -1541.61, Comm 0.46\n",
      "2023-02-01, OPERATION PROFIT, GROSS 3.05, NET 2.13\n",
      "2023-03-07, BUY EXECUTED, Price: 1840.90, Cost: -1541.61, Comm 0.44\n",
      "2023-03-07, BUY EXECUTED, Price: 1840.90, Cost: 1472.72, Comm 0.44\n",
      "2023-03-07, OPERATION PROFIT, GROSS 68.89, NET 67.98\n",
      "2023-03-10, SELL EXECUTED, Price: 1852.11, Cost: 1472.72, Comm 0.44\n",
      "2023-03-10, SELL EXECUTED, Price: 1852.11, Cost: -1481.69, Comm 0.44\n",
      "2023-03-10, OPERATION PROFIT, GROSS 8.97, NET 8.09\n",
      "2023-03-13, BUY EXECUTED, Price: 1890.99, Cost: -1481.69, Comm 0.45\n",
      "2023-03-13, BUY EXECUTED, Price: 1890.99, Cost: 1512.79, Comm 0.45\n",
      "2023-03-13, OPERATION PROFIT, GROSS -31.10, NET -32.00\n",
      "2023-04-21, SELL EXECUTED, Price: 1996.00, Cost: 1512.79, Comm 0.48\n",
      "2023-04-21, SELL EXECUTED, Price: 1996.00, Cost: -1596.80, Comm 0.48\n",
      "2023-04-21, OPERATION PROFIT, GROSS 84.01, NET 83.08\n",
      "2023-05-03, BUY EXECUTED, Price: 2017.30, Cost: -1596.80, Comm 0.48\n",
      "2023-05-03, BUY EXECUTED, Price: 2017.30, Cost: 1613.84, Comm 0.48\n",
      "2023-05-03, OPERATION PROFIT, GROSS -17.04, NET -18.00\n",
      "2023-05-16, SELL EXECUTED, Price: 1988.40, Cost: 1613.84, Comm 0.48\n",
      "2023-05-16, SELL EXECUTED, Price: 1988.40, Cost: -1590.72, Comm 0.48\n",
      "2023-05-16, OPERATION PROFIT, GROSS -23.12, NET -24.08\n",
      "2023-06-08, BUY EXECUTED, Price: 1943.39, Cost: -1590.72, Comm 0.47\n",
      "2023-06-08, BUY EXECUTED, Price: 1943.39, Cost: 1554.72, Comm 0.47\n",
      "2023-06-08, OPERATION PROFIT, GROSS 36.00, NET 35.06\n",
      "2023-06-09, SELL EXECUTED, Price: 1964.90, Cost: 1554.72, Comm 0.47\n",
      "2023-06-09, SELL EXECUTED, Price: 1964.90, Cost: -1571.92, Comm 0.47\n",
      "2023-06-09, OPERATION PROFIT, GROSS 17.21, NET 16.27\n",
      "Bt ends.\n"
     ]
    },
    {
     "name": "stdout",
     "output_type": "stream",
     "text": [
      "--------------- AnnualReturn -----------------\n",
      "OrderedDict([(2023, 0.08786732719884593)])\n",
      "--------------- SharpeRatio -----------------\n",
      "OrderedDict([('sharperatio', None)])\n",
      "--------------- DrawDown -----------------\n",
      "AutoOrderedDict([('len', 2), ('drawdown', 0.4028317876434178), ('moneydown', 8.800000000000182), ('max', AutoOrderedDict([('len', 47), ('drawdown', 3.652384682949612), ('moneydown', 79.28300356179398)]))])\n"
     ]
    }
   ],
   "source": [
    "# 启动回测\n",
    "result = cerebro.run()\n",
    "cerebro.plot(iplot= False)\n",
    "# 从返回的 result 中提取回测结果\n",
    "strat = result[0]\n",
    "# 返回日度收益率序列\n",
    "daily_return = pd.Series(strat.analyzers.pnl.get_analysis())\n",
    "# 打印评价指标\n",
    "print(\"--------------- AnnualReturn -----------------\")\n",
    "print(strat.analyzers._AnnualReturn.get_analysis())\n",
    "print(\"--------------- SharpeRatio -----------------\")\n",
    "print(strat.analyzers._SharpeRatio.get_analysis())\n",
    "print(\"--------------- DrawDown -----------------\")\n",
    "print(strat.analyzers._DrawDown.get_analysis())"
   ]
  }
 ],
 "metadata": {
  "kernelspec": {
   "display_name": "base",
   "language": "python",
   "name": "python3"
  },
  "language_info": {
   "codemirror_mode": {
    "name": "ipython",
    "version": 3
   },
   "file_extension": ".py",
   "mimetype": "text/x-python",
   "name": "python",
   "nbconvert_exporter": "python",
   "pygments_lexer": "ipython3",
   "version": "3.10.12"
  },
  "orig_nbformat": 4
 },
 "nbformat": 4,
 "nbformat_minor": 2
}
